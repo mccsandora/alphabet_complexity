{
  "cells": [
    {
      "cell_type": "code",
      "execution_count": 1,
      "metadata": {
        "colab": {
          "base_uri": "https://localhost:8080/"
        },
        "id": "njIyeS6Dwecc",
        "outputId": "86b8626a-a55e-46a2-b2e9-737aa3e2b859"
      },
      "outputs": [
        {
          "output_type": "stream",
          "name": "stdout",
          "text": [
            "Mounted at /content/drive\n"
          ]
        }
      ],
      "source": [
        "from google.colab import drive\n",
        "drive.mount('/content/drive')"
      ]
    },
    {
      "cell_type": "markdown",
      "metadata": {
        "id": "NS8JKul0QMS4"
      },
      "source": [
        "#Existing Data Analysis (**Ignore**)"
      ]
    },
    {
      "cell_type": "code",
      "execution_count": 18,
      "metadata": {
        "id": "fLhcfSiGEtHZ"
      },
      "outputs": [],
      "source": [
        "from PIL import Image, ImageDraw, ImageFont\n",
        "from matplotlib import pyplot as plt\n",
        "import numpy as np\n",
        "import pandas as pd\n",
        "\n",
        "def create_df_unicode():\n",
        "    with open('/content/drive/MyDrive/JYOTIKA/Colab Notebooks/Alphabet_complexity/data/unicode_names_list.txt','r') as f:\n",
        "        unicode = f.read()\n",
        "    unicode = unicode.split('\\n')\n",
        "    df_unicode = pd.DataFrame([u.split('\\t')\n",
        "            for u in unicode if len(u)>0 and u[0] not in '\\t;@'],\n",
        "                columns=['code','note'])\n",
        "    df_unicode = df_unicode[df_unicode.note.apply(lambda x: x[0]!='<')].reset_index(drop=True)\n",
        "    df_unicode.note.apply(lambda x: x.split()[0]).value_counts().index.tolist()\n",
        "    df_unicode['rep'] = df_unicode.code.apply(u)\n",
        "    return df_unicode\n",
        "\n",
        "def u(i):\n",
        "    try:\n",
        "        return chr(int(i, 16))\n",
        "    except:\n",
        "        return i\n",
        "\n",
        "def get_language(note):\n",
        "    return note.split()[0]\n",
        "\n",
        "def code_type(code):\n",
        "    u = '0x'+code\n",
        "    for a,b,c in [('0x1F600', '0x1F64F', 'Emoticons'),\n",
        "                  ('0x1F300', '0x1F5FF', 'Misc Symbols and Pictographs'),\n",
        "                  ('0x1F680', '0x1F6FF', 'Transport and Map'),\n",
        "                  ('0x2600', '0x26FF', 'Misc symbols'),\n",
        "                  ('0x2700', '0x27BF', 'Dingbats'),\n",
        "                  ('0xFE00', '0xFE0F', 'Variation Selectors'),\n",
        "                  ('0x1F900', '0x1F9FF', 'Supplemental Symbols and Pictographs'),\n",
        "                  ('0x1F1E6', '0x1F1FF', 'Flags')]:\n",
        "        if a<=u<=b:\n",
        "            return c\n",
        "    return 'Writing Symbol'\n",
        "\n",
        "def make_picture(code,ttf):\n",
        "    image = Image.new('RGB', (100,100))\n",
        "\n",
        "    draw = ImageDraw.Draw(image)\n",
        "    draw.text((50,50),\n",
        "              u(code),\n",
        "              font=ImageFont.truetype(ttf, 11))\n",
        "    picture = np.mean(255-np.array(image),axis=-1)/255\n",
        "    return picture\n",
        "\n",
        "df_unicode = create_df_unicode()\n",
        "dfu=df_unicode[df_unicode.code.apply(code_type)=='Writing Symbol'].reset_index(drop=True)\n",
        "dfu['language'] = dfu.note.apply(get_language)\n",
        "dfu['picture'] = dfu.code.apply(lambda x: make_picture(x,'/content/drive/MyDrive/JYOTIKA/Colab Notebooks/Alphabet_complexity/data/ttfs/unifont-15.0.06.ttf'))"
      ]
    },
    {
      "cell_type": "markdown",
      "source": [
        "Notice characters with unicode instead of their rep"
      ],
      "metadata": {
        "id": "Zqe-alj2PJH6"
      }
    },
    {
      "cell_type": "code",
      "execution_count": 4,
      "metadata": {
        "id": "sbwWgRTpRij8",
        "colab": {
          "base_uri": "https://localhost:8080/",
          "height": 53
        },
        "outputId": "a37a5e3d-551f-4159-b2a0-31be7b714510"
      },
      "outputs": [
        {
          "output_type": "execute_result",
          "data": {
            "text/plain": [
              "'ऀ ँ ं ः ऄ अ आ इ ई उ ऊ ऋ ऌ ऍ ऎ ए ऐ ऑ ऒ ओ औ क ख ग घ ङ च छ ज झ ञ ट ठ ड ढ ण त थ द ध न ऩ प फ ब भ म य र ऱ ल ळ ऴ व श ष स ह ऺ ऻ ़ ऽ ा ि ी ु ू ृ ॄ ॅ ॆ े ै ॉ ॊ ो ौ ् ॎ ॏ ॐ ॑ ॒ ॓ ॔ ॕ ॖ ॗ क़ ख़ ग़ ज़ ड़ ढ़ फ़ य़ ॠ ॡ ॢ ॣ । ॥ ० १ २ ३ ४ ५ ६ ७ ८ ९ ॰ ॱ ॲ ॳ ॴ ॵ ॶ ॷ ॸ ॹ ॺ ॻ ॼ ॽ ॾ ॿ ꣲ ꣳ ꣴ ꣵ ꣶ ꣷ ꣸ ꣹ ꣺ ꣻ ꣼ ꣽ ꣾ ꣿ \\U00011b00 \\U00011b01 \\U00011b02 \\U00011b03 \\U00011b04 \\U00011b05 \\U00011b06 \\U00011b07 \\U00011b08 \\U00011b09'"
            ],
            "application/vnd.google.colaboratory.intrinsic+json": {
              "type": "string"
            }
          },
          "metadata": {},
          "execution_count": 4
        }
      ],
      "source": [
        "' '.join(dfu[dfu.language=='DEVANAGARI'].rep)"
      ]
    },
    {
      "cell_type": "code",
      "source": [
        "dfu[dfu.language=='DEVANAGARI']"
      ],
      "metadata": {
        "colab": {
          "base_uri": "https://localhost:8080/",
          "height": 424
        },
        "id": "Y4DfisqiZfNn",
        "outputId": "f8f0233d-7acc-47b0-feca-67ac8a7ea76d"
      },
      "execution_count": 30,
      "outputs": [
        {
          "output_type": "execute_result",
          "data": {
            "text/plain": [
              "        code                                      note rep    language  \\\n",
              "2164    0900      DEVANAGARI SIGN INVERTED CANDRABINDU   ऀ  DEVANAGARI   \n",
              "2165    0901               DEVANAGARI SIGN CANDRABINDU   ँ  DEVANAGARI   \n",
              "2166    0902                  DEVANAGARI SIGN ANUSVARA   ं  DEVANAGARI   \n",
              "2167    0903                   DEVANAGARI SIGN VISARGA   ः  DEVANAGARI   \n",
              "2168    0904                 DEVANAGARI LETTER SHORT A   ऄ  DEVANAGARI   \n",
              "...      ...                                       ...  ..         ...   \n",
              "20663  11B05  DEVANAGARI SIGN EXTENDED BHALE WITH HOOK   𑬅  DEVANAGARI   \n",
              "20664  11B06   DEVANAGARI SIGN WESTERN FIVE-LIKE BHALE   𑬆  DEVANAGARI   \n",
              "20665  11B07   DEVANAGARI SIGN WESTERN NINE-LIKE BHALE   𑬇  DEVANAGARI   \n",
              "20666  11B08  DEVANAGARI SIGN REVERSED NINE-LIKE BHALE   𑬈  DEVANAGARI   \n",
              "20667  11B09                     DEVANAGARI SIGN MINDU   𑬉  DEVANAGARI   \n",
              "\n",
              "                                                 picture  \n",
              "2164   [[1.0, 1.0, 1.0, 1.0, 1.0, 1.0, 1.0, 1.0, 1.0,...  \n",
              "2165   [[1.0, 1.0, 1.0, 1.0, 1.0, 1.0, 1.0, 1.0, 1.0,...  \n",
              "2166   [[1.0, 1.0, 1.0, 1.0, 1.0, 1.0, 1.0, 1.0, 1.0,...  \n",
              "2167   [[1.0, 1.0, 1.0, 1.0, 1.0, 1.0, 1.0, 1.0, 1.0,...  \n",
              "2168   [[1.0, 1.0, 1.0, 1.0, 1.0, 1.0, 1.0, 1.0, 1.0,...  \n",
              "...                                                  ...  \n",
              "20663  [[1.0, 1.0, 1.0, 1.0, 1.0, 1.0, 1.0, 1.0, 1.0,...  \n",
              "20664  [[1.0, 1.0, 1.0, 1.0, 1.0, 1.0, 1.0, 1.0, 1.0,...  \n",
              "20665  [[1.0, 1.0, 1.0, 1.0, 1.0, 1.0, 1.0, 1.0, 1.0,...  \n",
              "20666  [[1.0, 1.0, 1.0, 1.0, 1.0, 1.0, 1.0, 1.0, 1.0,...  \n",
              "20667  [[1.0, 1.0, 1.0, 1.0, 1.0, 1.0, 1.0, 1.0, 1.0,...  \n",
              "\n",
              "[152 rows x 5 columns]"
            ],
            "text/html": [
              "\n",
              "  <div id=\"df-528a81ec-6368-43b8-93a4-0df2ae0f5cdd\">\n",
              "    <div class=\"colab-df-container\">\n",
              "      <div>\n",
              "<style scoped>\n",
              "    .dataframe tbody tr th:only-of-type {\n",
              "        vertical-align: middle;\n",
              "    }\n",
              "\n",
              "    .dataframe tbody tr th {\n",
              "        vertical-align: top;\n",
              "    }\n",
              "\n",
              "    .dataframe thead th {\n",
              "        text-align: right;\n",
              "    }\n",
              "</style>\n",
              "<table border=\"1\" class=\"dataframe\">\n",
              "  <thead>\n",
              "    <tr style=\"text-align: right;\">\n",
              "      <th></th>\n",
              "      <th>code</th>\n",
              "      <th>note</th>\n",
              "      <th>rep</th>\n",
              "      <th>language</th>\n",
              "      <th>picture</th>\n",
              "    </tr>\n",
              "  </thead>\n",
              "  <tbody>\n",
              "    <tr>\n",
              "      <th>2164</th>\n",
              "      <td>0900</td>\n",
              "      <td>DEVANAGARI SIGN INVERTED CANDRABINDU</td>\n",
              "      <td>ऀ</td>\n",
              "      <td>DEVANAGARI</td>\n",
              "      <td>[[1.0, 1.0, 1.0, 1.0, 1.0, 1.0, 1.0, 1.0, 1.0,...</td>\n",
              "    </tr>\n",
              "    <tr>\n",
              "      <th>2165</th>\n",
              "      <td>0901</td>\n",
              "      <td>DEVANAGARI SIGN CANDRABINDU</td>\n",
              "      <td>ँ</td>\n",
              "      <td>DEVANAGARI</td>\n",
              "      <td>[[1.0, 1.0, 1.0, 1.0, 1.0, 1.0, 1.0, 1.0, 1.0,...</td>\n",
              "    </tr>\n",
              "    <tr>\n",
              "      <th>2166</th>\n",
              "      <td>0902</td>\n",
              "      <td>DEVANAGARI SIGN ANUSVARA</td>\n",
              "      <td>ं</td>\n",
              "      <td>DEVANAGARI</td>\n",
              "      <td>[[1.0, 1.0, 1.0, 1.0, 1.0, 1.0, 1.0, 1.0, 1.0,...</td>\n",
              "    </tr>\n",
              "    <tr>\n",
              "      <th>2167</th>\n",
              "      <td>0903</td>\n",
              "      <td>DEVANAGARI SIGN VISARGA</td>\n",
              "      <td>ः</td>\n",
              "      <td>DEVANAGARI</td>\n",
              "      <td>[[1.0, 1.0, 1.0, 1.0, 1.0, 1.0, 1.0, 1.0, 1.0,...</td>\n",
              "    </tr>\n",
              "    <tr>\n",
              "      <th>2168</th>\n",
              "      <td>0904</td>\n",
              "      <td>DEVANAGARI LETTER SHORT A</td>\n",
              "      <td>ऄ</td>\n",
              "      <td>DEVANAGARI</td>\n",
              "      <td>[[1.0, 1.0, 1.0, 1.0, 1.0, 1.0, 1.0, 1.0, 1.0,...</td>\n",
              "    </tr>\n",
              "    <tr>\n",
              "      <th>...</th>\n",
              "      <td>...</td>\n",
              "      <td>...</td>\n",
              "      <td>...</td>\n",
              "      <td>...</td>\n",
              "      <td>...</td>\n",
              "    </tr>\n",
              "    <tr>\n",
              "      <th>20663</th>\n",
              "      <td>11B05</td>\n",
              "      <td>DEVANAGARI SIGN EXTENDED BHALE WITH HOOK</td>\n",
              "      <td>𑬅</td>\n",
              "      <td>DEVANAGARI</td>\n",
              "      <td>[[1.0, 1.0, 1.0, 1.0, 1.0, 1.0, 1.0, 1.0, 1.0,...</td>\n",
              "    </tr>\n",
              "    <tr>\n",
              "      <th>20664</th>\n",
              "      <td>11B06</td>\n",
              "      <td>DEVANAGARI SIGN WESTERN FIVE-LIKE BHALE</td>\n",
              "      <td>𑬆</td>\n",
              "      <td>DEVANAGARI</td>\n",
              "      <td>[[1.0, 1.0, 1.0, 1.0, 1.0, 1.0, 1.0, 1.0, 1.0,...</td>\n",
              "    </tr>\n",
              "    <tr>\n",
              "      <th>20665</th>\n",
              "      <td>11B07</td>\n",
              "      <td>DEVANAGARI SIGN WESTERN NINE-LIKE BHALE</td>\n",
              "      <td>𑬇</td>\n",
              "      <td>DEVANAGARI</td>\n",
              "      <td>[[1.0, 1.0, 1.0, 1.0, 1.0, 1.0, 1.0, 1.0, 1.0,...</td>\n",
              "    </tr>\n",
              "    <tr>\n",
              "      <th>20666</th>\n",
              "      <td>11B08</td>\n",
              "      <td>DEVANAGARI SIGN REVERSED NINE-LIKE BHALE</td>\n",
              "      <td>𑬈</td>\n",
              "      <td>DEVANAGARI</td>\n",
              "      <td>[[1.0, 1.0, 1.0, 1.0, 1.0, 1.0, 1.0, 1.0, 1.0,...</td>\n",
              "    </tr>\n",
              "    <tr>\n",
              "      <th>20667</th>\n",
              "      <td>11B09</td>\n",
              "      <td>DEVANAGARI SIGN MINDU</td>\n",
              "      <td>𑬉</td>\n",
              "      <td>DEVANAGARI</td>\n",
              "      <td>[[1.0, 1.0, 1.0, 1.0, 1.0, 1.0, 1.0, 1.0, 1.0,...</td>\n",
              "    </tr>\n",
              "  </tbody>\n",
              "</table>\n",
              "<p>152 rows × 5 columns</p>\n",
              "</div>\n",
              "      <button class=\"colab-df-convert\" onclick=\"convertToInteractive('df-528a81ec-6368-43b8-93a4-0df2ae0f5cdd')\"\n",
              "              title=\"Convert this dataframe to an interactive table.\"\n",
              "              style=\"display:none;\">\n",
              "        \n",
              "  <svg xmlns=\"http://www.w3.org/2000/svg\" height=\"24px\"viewBox=\"0 0 24 24\"\n",
              "       width=\"24px\">\n",
              "    <path d=\"M0 0h24v24H0V0z\" fill=\"none\"/>\n",
              "    <path d=\"M18.56 5.44l.94 2.06.94-2.06 2.06-.94-2.06-.94-.94-2.06-.94 2.06-2.06.94zm-11 1L8.5 8.5l.94-2.06 2.06-.94-2.06-.94L8.5 2.5l-.94 2.06-2.06.94zm10 10l.94 2.06.94-2.06 2.06-.94-2.06-.94-.94-2.06-.94 2.06-2.06.94z\"/><path d=\"M17.41 7.96l-1.37-1.37c-.4-.4-.92-.59-1.43-.59-.52 0-1.04.2-1.43.59L10.3 9.45l-7.72 7.72c-.78.78-.78 2.05 0 2.83L4 21.41c.39.39.9.59 1.41.59.51 0 1.02-.2 1.41-.59l7.78-7.78 2.81-2.81c.8-.78.8-2.07 0-2.86zM5.41 20L4 18.59l7.72-7.72 1.47 1.35L5.41 20z\"/>\n",
              "  </svg>\n",
              "      </button>\n",
              "      \n",
              "  <style>\n",
              "    .colab-df-container {\n",
              "      display:flex;\n",
              "      flex-wrap:wrap;\n",
              "      gap: 12px;\n",
              "    }\n",
              "\n",
              "    .colab-df-convert {\n",
              "      background-color: #E8F0FE;\n",
              "      border: none;\n",
              "      border-radius: 50%;\n",
              "      cursor: pointer;\n",
              "      display: none;\n",
              "      fill: #1967D2;\n",
              "      height: 32px;\n",
              "      padding: 0 0 0 0;\n",
              "      width: 32px;\n",
              "    }\n",
              "\n",
              "    .colab-df-convert:hover {\n",
              "      background-color: #E2EBFA;\n",
              "      box-shadow: 0px 1px 2px rgba(60, 64, 67, 0.3), 0px 1px 3px 1px rgba(60, 64, 67, 0.15);\n",
              "      fill: #174EA6;\n",
              "    }\n",
              "\n",
              "    [theme=dark] .colab-df-convert {\n",
              "      background-color: #3B4455;\n",
              "      fill: #D2E3FC;\n",
              "    }\n",
              "\n",
              "    [theme=dark] .colab-df-convert:hover {\n",
              "      background-color: #434B5C;\n",
              "      box-shadow: 0px 1px 3px 1px rgba(0, 0, 0, 0.15);\n",
              "      filter: drop-shadow(0px 1px 2px rgba(0, 0, 0, 0.3));\n",
              "      fill: #FFFFFF;\n",
              "    }\n",
              "  </style>\n",
              "\n",
              "      <script>\n",
              "        const buttonEl =\n",
              "          document.querySelector('#df-528a81ec-6368-43b8-93a4-0df2ae0f5cdd button.colab-df-convert');\n",
              "        buttonEl.style.display =\n",
              "          google.colab.kernel.accessAllowed ? 'block' : 'none';\n",
              "\n",
              "        async function convertToInteractive(key) {\n",
              "          const element = document.querySelector('#df-528a81ec-6368-43b8-93a4-0df2ae0f5cdd');\n",
              "          const dataTable =\n",
              "            await google.colab.kernel.invokeFunction('convertToInteractive',\n",
              "                                                     [key], {});\n",
              "          if (!dataTable) return;\n",
              "\n",
              "          const docLinkHtml = 'Like what you see? Visit the ' +\n",
              "            '<a target=\"_blank\" href=https://colab.research.google.com/notebooks/data_table.ipynb>data table notebook</a>'\n",
              "            + ' to learn more about interactive tables.';\n",
              "          element.innerHTML = '';\n",
              "          dataTable['output_type'] = 'display_data';\n",
              "          await google.colab.output.renderOutput(dataTable, element);\n",
              "          const docLink = document.createElement('div');\n",
              "          docLink.innerHTML = docLinkHtml;\n",
              "          element.appendChild(docLink);\n",
              "        }\n",
              "      </script>\n",
              "    </div>\n",
              "  </div>\n",
              "  "
            ]
          },
          "metadata": {},
          "execution_count": 30
        }
      ]
    },
    {
      "cell_type": "code",
      "execution_count": 31,
      "metadata": {
        "id": "s29mWRNXH4I1",
        "colab": {
          "base_uri": "https://localhost:8080/"
        },
        "outputId": "680b7859-09a9-4b8a-91ef-cb9b87cf87a0"
      },
      "outputs": [
        {
          "output_type": "stream",
          "name": "stdout",
          "text": [
            "𑬅\n",
            "𑬉\n"
          ]
        }
      ],
      "source": [
        "print(dfu.rep[20663])\n",
        "print(dfu.rep[20667])"
      ]
    },
    {
      "cell_type": "code",
      "source": [
        "print(dfu.rep[20663]==dfu.rep[20667])"
      ],
      "metadata": {
        "colab": {
          "base_uri": "https://localhost:8080/"
        },
        "id": "zfY63dZsZcI3",
        "outputId": "c380dd8d-b140-4a92-dd31-54215378cce9"
      },
      "execution_count": 32,
      "outputs": [
        {
          "output_type": "stream",
          "name": "stdout",
          "text": [
            "False\n"
          ]
        }
      ]
    },
    {
      "cell_type": "code",
      "source": [
        "plt.imshow(dfu.iloc[20663].picture,cmap='gray')\n",
        "plt.show()"
      ],
      "metadata": {
        "colab": {
          "base_uri": "https://localhost:8080/",
          "height": 433
        },
        "id": "RH3uOdZTU6UJ",
        "outputId": "1ca99ab3-105d-40d0-ad02-42e7f2910145"
      },
      "execution_count": 33,
      "outputs": [
        {
          "output_type": "display_data",
          "data": {
            "text/plain": [
              "<Figure size 640x480 with 1 Axes>"
            ],
            "image/png": "[encoded data removed]"
          },
          "metadata": {}
        }
      ]
    },
    {
      "cell_type": "code",
      "source": [
        "plt.imshow(dfu.iloc[20667].picture,cmap='gray')\n",
        "plt.show()"
      ],
      "metadata": {
        "colab": {
          "base_uri": "https://localhost:8080/",
          "height": 433
        },
        "id": "FXPwTC0iU8kH",
        "outputId": "f8b975d2-2412-4f8c-a6b6-74319816e717"
      },
      "execution_count": 34,
      "outputs": [
        {
          "output_type": "display_data",
          "data": {
            "text/plain": [
              "<Figure size 640x480 with 1 Axes>"
            ],
            "image/png": "[encoded data removed]"
          },
          "metadata": {}
        }
      ]
    },
    {
      "cell_type": "code",
      "execution_count": 35,
      "metadata": {
        "id": "--EBZDndJPUR",
        "colab": {
          "base_uri": "https://localhost:8080/"
        },
        "outputId": "cf1a9acb-714f-4a7b-a105-6f31da0185a7"
      },
      "outputs": [
        {
          "output_type": "execute_result",
          "data": {
            "text/plain": [
              "array([[ True,  True,  True, ...,  True,  True,  True],\n",
              "       [ True,  True,  True, ...,  True,  True,  True],\n",
              "       [ True,  True,  True, ...,  True,  True,  True],\n",
              "       ...,\n",
              "       [ True,  True,  True, ...,  True,  True,  True],\n",
              "       [ True,  True,  True, ...,  True,  True,  True],\n",
              "       [ True,  True,  True, ...,  True,  True,  True]])"
            ]
          },
          "metadata": {},
          "execution_count": 35
        }
      ],
      "source": [
        "dfu.picture[20663]==dfu.picture[20667]"
      ]
    },
    {
      "cell_type": "code",
      "execution_count": 36,
      "metadata": {
        "id": "jJjW_aSwJfnX"
      },
      "outputs": [],
      "source": [
        "incorrect_rep = []\n",
        "for x in range(0,33046):\n",
        "  if((dfu.picture[x]==dfu.picture[20667]).all()):\n",
        "    incorrect_rep.append(x)"
      ]
    },
    {
      "cell_type": "code",
      "execution_count": 24,
      "metadata": {
        "id": "P6LjyWqmSM_V",
        "colab": {
          "base_uri": "https://localhost:8080/"
        },
        "outputId": "b328e76b-8809-451d-bac5-99567f21be63"
      },
      "outputs": [
        {
          "output_type": "execute_result",
          "data": {
            "text/plain": [
              "15135"
            ]
          },
          "metadata": {},
          "execution_count": 24
        }
      ],
      "source": [
        "len(incorrect_rep)"
      ]
    },
    {
      "cell_type": "code",
      "execution_count": 27,
      "metadata": {
        "id": "lJ4KId6XM0Cx",
        "colab": {
          "base_uri": "https://localhost:8080/"
        },
        "outputId": "765d7301-ffd3-4bb2-a835-f9d9321c4f3a"
      },
      "outputs": [
        {
          "output_type": "execute_result",
          "data": {
            "text/plain": [
              "17911"
            ]
          },
          "metadata": {},
          "execution_count": 27
        }
      ],
      "source": [
        "len(dfu)-len(incorrect_rep)"
      ]
    },
    {
      "cell_type": "markdown",
      "source": [
        "# **FONT ANALYSIS**"
      ],
      "metadata": {
        "id": "p0n7rKNFVxRZ"
      }
    },
    {
      "cell_type": "code",
      "source": [
        "fonts = {\n",
        "    'NotoSans': \"/content/drive/MyDrive/JYOTIKA/Colab Notebooks/Alphabet_complexity/data/ttfs/NotoSans-Regular.ttf\",\n",
        "    'GnuUnifont': \"/content/drive/MyDrive/JYOTIKA/Colab Notebooks/Alphabet_complexity/data/ttfs/unifont-15.0.06.ttf\",\n",
        "    'CourierNew': \"/content/drive/MyDrive/JYOTIKA/Colab Notebooks/Alphabet_complexity/data/ttfs/courier_new.ttf\",\n",
        "    'Code2000': \"/content/drive/MyDrive/JYOTIKA/Colab Notebooks/Alphabet_complexity/data/ttfs/CODE2000.ttf\",\n",
        "    'ArielUnicodeMS': \"/content/drive/MyDrive/JYOTIKA/Colab Notebooks/Alphabet_complexity/data/ttfs/Arial Unicode MS Font.ttf\"\n",
        "}"
      ],
      "metadata": {
        "id": "uUqeJKR-V404"
      },
      "execution_count": 26,
      "outputs": []
    }
  ],
  "metadata": {
    "colab": {
      "collapsed_sections": [
        "p0n7rKNFVxRZ"
      ],
      "provenance": []
    },
    "kernelspec": {
      "display_name": "Python 3",
      "name": "python3"
    },
    "language_info": {
      "name": "python"
    }
  },
  "nbformat": 4,
  "nbformat_minor": 0
}