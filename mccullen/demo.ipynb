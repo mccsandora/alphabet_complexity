{
 "cells": [
  {
   "cell_type": "code",
   "execution_count": 1,
   "id": "376cfeb6-904e-4da2-8019-d200d6b739b8",
   "metadata": {},
   "outputs": [],
   "source": [
    "%%capture\n",
    "cd .."
   ]
  },
  {
   "cell_type": "code",
   "execution_count": 2,
   "id": "bddef2cc-0e9c-40d5-a09d-8b11bb04d8d8",
   "metadata": {},
   "outputs": [],
   "source": [
    "import numpy as np\n",
    "from matplotlib import pyplot as plt\n",
    "from utils.unicode_utils import *\n",
    "from utils.complexity_metrics import *"
   ]
  },
  {
   "cell_type": "code",
   "execution_count": 3,
   "id": "5dac31d7-45cc-4b67-9f8f-b8aa4282e09c",
   "metadata": {
    "tags": []
   },
   "outputs": [
    {
     "data": {
      "text/html": [
       "<div>\n",
       "<style scoped>\n",
       "    .dataframe tbody tr th:only-of-type {\n",
       "        vertical-align: middle;\n",
       "    }\n",
       "\n",
       "    .dataframe tbody tr th {\n",
       "        vertical-align: top;\n",
       "    }\n",
       "\n",
       "    .dataframe thead th {\n",
       "        text-align: right;\n",
       "    }\n",
       "</style>\n",
       "<table border=\"1\" class=\"dataframe\">\n",
       "  <thead>\n",
       "    <tr style=\"text-align: right;\">\n",
       "      <th></th>\n",
       "      <th>code</th>\n",
       "      <th>note</th>\n",
       "      <th>rep</th>\n",
       "    </tr>\n",
       "  </thead>\n",
       "  <tbody>\n",
       "    <tr>\n",
       "      <th>0</th>\n",
       "      <td>0020</td>\n",
       "      <td>SPACE</td>\n",
       "      <td></td>\n",
       "    </tr>\n",
       "    <tr>\n",
       "      <th>1</th>\n",
       "      <td>0021</td>\n",
       "      <td>EXCLAMATION MARK</td>\n",
       "      <td>!</td>\n",
       "    </tr>\n",
       "    <tr>\n",
       "      <th>2</th>\n",
       "      <td>0022</td>\n",
       "      <td>QUOTATION MARK</td>\n",
       "      <td>\"</td>\n",
       "    </tr>\n",
       "    <tr>\n",
       "      <th>3</th>\n",
       "      <td>0023</td>\n",
       "      <td>NUMBER SIGN</td>\n",
       "      <td>#</td>\n",
       "    </tr>\n",
       "    <tr>\n",
       "      <th>4</th>\n",
       "      <td>0024</td>\n",
       "      <td>DOLLAR SIGN</td>\n",
       "      <td>$</td>\n",
       "    </tr>\n",
       "    <tr>\n",
       "      <th>...</th>\n",
       "      <td>...</td>\n",
       "      <td>...</td>\n",
       "      <td>...</td>\n",
       "    </tr>\n",
       "    <tr>\n",
       "      <th>34818</th>\n",
       "      <td>E01EB</td>\n",
       "      <td>VARIATION SELECTOR-252</td>\n",
       "      <td>󠇫</td>\n",
       "    </tr>\n",
       "    <tr>\n",
       "      <th>34819</th>\n",
       "      <td>E01EC</td>\n",
       "      <td>VARIATION SELECTOR-253</td>\n",
       "      <td>󠇬</td>\n",
       "    </tr>\n",
       "    <tr>\n",
       "      <th>34820</th>\n",
       "      <td>E01ED</td>\n",
       "      <td>VARIATION SELECTOR-254</td>\n",
       "      <td>󠇭</td>\n",
       "    </tr>\n",
       "    <tr>\n",
       "      <th>34821</th>\n",
       "      <td>E01EE</td>\n",
       "      <td>VARIATION SELECTOR-255</td>\n",
       "      <td>󠇮</td>\n",
       "    </tr>\n",
       "    <tr>\n",
       "      <th>34822</th>\n",
       "      <td>E01EF</td>\n",
       "      <td>VARIATION SELECTOR-256</td>\n",
       "      <td>󠇯</td>\n",
       "    </tr>\n",
       "  </tbody>\n",
       "</table>\n",
       "<p>34823 rows × 3 columns</p>\n",
       "</div>"
      ],
      "text/plain": [
       "        code                    note rep\n",
       "0       0020                   SPACE    \n",
       "1       0021        EXCLAMATION MARK   !\n",
       "2       0022          QUOTATION MARK   \"\n",
       "3       0023             NUMBER SIGN   #\n",
       "4       0024             DOLLAR SIGN   $\n",
       "...      ...                     ...  ..\n",
       "34818  E01EB  VARIATION SELECTOR-252   󠇫\n",
       "34819  E01EC  VARIATION SELECTOR-253   󠇬\n",
       "34820  E01ED  VARIATION SELECTOR-254   󠇭\n",
       "34821  E01EE  VARIATION SELECTOR-255   󠇮\n",
       "34822  E01EF  VARIATION SELECTOR-256   󠇯\n",
       "\n",
       "[34823 rows x 3 columns]"
      ]
     },
     "execution_count": 3,
     "metadata": {},
     "output_type": "execute_result"
    }
   ],
   "source": [
    "df_unicode = create_df_unicode()\n",
    "\n",
    "df_unicode"
   ]
  },
  {
   "cell_type": "code",
   "execution_count": 4,
   "id": "8cc8c6ed-97aa-4849-b5d5-ddea758287db",
   "metadata": {
    "tags": []
   },
   "outputs": [
    {
     "data": {
      "text/plain": [
       "ARABIC         1330\n",
       "CUNEIFORM      1234\n",
       "YI             1220\n",
       "LATIN          1213\n",
       "CJK            1165\n",
       "               ... \n",
       "GROUP             1\n",
       "UNCERTAINTY       1\n",
       "NEPTUNE           1\n",
       "BALLOT            1\n",
       "SPACE             1\n",
       "Name: language, Length: 819, dtype: int64"
      ]
     },
     "execution_count": 4,
     "metadata": {},
     "output_type": "execute_result"
    }
   ],
   "source": [
    "dfu=df_unicode[df_unicode.code.apply(code_type)=='Writing Symbol'].reset_index(drop=True)\n",
    "dfu['language'] = dfu.note.apply(get_language)\n",
    "dfu.language.value_counts()            "
   ]
  },
  {
   "cell_type": "code",
   "execution_count": 5,
   "id": "870f8f77-ef10-479e-9c4a-95666386fe01",
   "metadata": {},
   "outputs": [],
   "source": [
    "#for i in dfu.language.value_counts().index:\n",
    "    #print(i)\n",
    "    #print(' '.join([u(k) for k in dfu[dfu.language==i].code]))"
   ]
  },
  {
   "cell_type": "code",
   "execution_count": 6,
   "id": "a8979a63-6cde-49b2-abdd-bf8b8d698fed",
   "metadata": {},
   "outputs": [
    {
     "data": {
      "text/plain": [
       "'က ခ ဂ ဃ င စ ဆ ဇ ဈ ဉ ည ဋ ဌ ဍ ဎ ဏ တ ထ ဒ ဓ န ပ ဖ ဗ ဘ မ ယ ရ လ ဝ သ ဟ ဠ အ ဢ ဣ ဤ ဥ ဦ ဧ ဨ ဩ ဪ ါ ာ ိ ီ ု ူ ေ ဲ ဳ ဴ ဵ ံ ့ း ္ ် ျ ြ ွ ှ ဿ ၀ ၁ ၂ ၃ ၄ ၅ ၆ ၇ ၈ ၉ ၊ ။ ၌ ၍ ၎ ၏ ၐ ၑ ၒ ၓ ၔ ၕ ၖ ၗ ၘ ၙ ၚ ၛ ၜ ၝ ၞ ၟ ၠ ၡ ၢ ၣ ၤ ၥ ၦ ၧ ၨ ၩ ၪ ၫ ၬ ၭ ၮ ၯ ၰ ၱ ၲ ၳ ၴ ၵ ၶ ၷ ၸ ၹ ၺ ၻ ၼ ၽ ၾ ၿ ႀ ႁ ႂ ႃ ႄ ႅ ႆ ႇ ႈ ႉ ႊ ႋ ႌ ႍ ႎ ႏ ႐ ႑ ႒ ႓ ႔ ႕ ႖ ႗ ႘ ႙ ႚ ႛ ႜ ႝ ႞ ႟ ꧠ ꧡ ꧢ ꧣ ꧤ ꧥ ꧦ ꧧ ꧨ ꧩ ꧪ ꧫ ꧬ ꧭ ꧮ ꧯ ꧰ ꧱ ꧲ ꧳ ꧴ ꧵ ꧶ ꧷ ꧸ ꧹ ꧺ ꧻ ꧼ ꧽ ꧾ ꩠ ꩡ ꩢ ꩣ ꩤ ꩥ ꩦ ꩧ ꩨ ꩩ ꩪ ꩫ ꩬ ꩭ ꩮ ꩯ ꩰ ꩱ ꩲ ꩳ ꩴ ꩵ ꩶ ꩷ ꩸ ꩹ ꩺ ꩻ ꩼ ꩽ ꩾ ꩿ'"
      ]
     },
     "execution_count": 6,
     "metadata": {},
     "output_type": "execute_result"
    }
   ],
   "source": [
    "' '.join(dfu[dfu.language=='MYANMAR'].rep)\n"
   ]
  },
  {
   "cell_type": "code",
   "execution_count": 7,
   "id": "818eb9be",
   "metadata": {},
   "outputs": [
    {
     "name": "stdout",
     "output_type": "stream",
     "text": [
      "0                                   (1.0, 1.0)\n",
      "1     (0.9821597803921569, 0.9929117176470589)\n",
      "2     (0.9876136156862745, 0.9876136156862745)\n",
      "3      (0.9498956549019608, 0.967283137254902)\n",
      "4     (0.9508681098039216, 0.9705386980392157)\n",
      "                        ...                   \n",
      "95                                  (1.0, 1.0)\n",
      "96    (0.9820082196078431, 0.9838325333333333)\n",
      "97      (0.969601537254902, 0.975302431372549)\n",
      "98    (0.9574592941176471, 0.9691638901960784)\n",
      "99     (0.9705386666666667, 0.979964674509804)\n",
      "Name: picture, Length: 100, dtype: object\n",
      "CPU times: user 560 ms, sys: 51.6 ms, total: 612 ms\n",
      "Wall time: 611 ms\n"
     ]
    }
   ],
   "source": [
    "%%time\n",
    "\n",
    "#this code prints the symmetry ratios(left-to-right, top-to-bottom) for the first 100 characters in the dfu df, and the 100th character's pic\n",
    "\n",
    "sub_df = dfu.head(100).copy()\n",
    "sub_df['picture'] = sub_df.code.apply(lambda x: make_picture(x, 'data/ttfs/NotoSans-Regular.ttf'))\n",
    "\n",
    "symmetry = sub_df.picture.apply(check_symmetry)\n",
    "print(symmetry)\n",
    "\n",
    "\n"
   ]
  },
  {
   "cell_type": "code",
   "execution_count": 8,
   "id": "ba0e4d94",
   "metadata": {},
   "outputs": [
    {
     "data": {
      "text/plain": [
       "'M   W   @   %   &   Q   B   N   m   O   D   g   w   G   R   8   H   #   $   p   q   d   b   K   U   0   A   9   6   E   P   Z   £   h   4   X   5   3   S   V   k   e   2   y   a   C   o   u   F   n   Y   T   x   7   ¢   ]   [   s   ¤   v   f   {   }   J   z   L   I   j   c   t   *   ?   )   (   1   |   l   =   r   >   <   +   ^   \\\\   /   i   ¡   !   \"   ~   ;   _   :   ,   \\'   -   `   .   \\xa0    '"
      ]
     },
     "execution_count": 8,
     "metadata": {},
     "output_type": "execute_result"
    }
   ],
   "source": [
    "sub_df['pixel_count_complexity'] = sub_df.picture.apply(pixel_count_complexity)\n",
    "\n",
    "'   '.join(sub_df.sort_values('pixel_count_complexity', ascending=True).rep.iloc[:100].values)"
   ]
  },
  {
   "cell_type": "code",
   "execution_count": 9,
   "id": "bc6938c8-017e-48f4-a755-2ccbeb620ccd",
   "metadata": {},
   "outputs": [
    {
     "name": "stdout",
     "output_type": "stream",
     "text": [
      "0                                      (1.0, 1.0)\n",
      "1        (0.9821597803921569, 0.9929117176470589)\n",
      "2        (0.9876136156862745, 0.9876136156862745)\n",
      "3         (0.9498956549019608, 0.967283137254902)\n",
      "4        (0.9508681098039216, 0.9705386980392157)\n",
      "                           ...                   \n",
      "33041             (0.9665952, 0.9841628862745098)\n",
      "33042             (0.9665952, 0.9841628862745098)\n",
      "33043             (0.9665952, 0.9841628862745098)\n",
      "33044             (0.9665952, 0.9841628862745098)\n",
      "33045             (0.9665952, 0.9841628862745098)\n",
      "Name: picture, Length: 33046, dtype: object\n",
      "CPU times: user 3min 14s, sys: 31.8 s, total: 3min 45s\n",
      "Wall time: 4min 19s\n"
     ]
    }
   ],
   "source": [
    "%%time\n",
    "#this code checks the symmetry ratios for the whole dataframe, and prints the picture of the 2280th character in the df\n",
    "\n",
    "dfu['picture'] = dfu.code.apply(lambda x: make_picture(x, 'data/ttfs/NotoSans-Regular.ttf'))\n",
    "\n",
    "\n",
    "symmetry = dfu.picture.apply(check_symmetry)\n",
    "print(symmetry)\n",
    "\n"
   ]
  },
  {
   "cell_type": "code",
   "execution_count": 10,
   "id": "dc2df00f-66d1-48ad-b0f9-86c5d5ee939f",
   "metadata": {},
   "outputs": [
    {
     "data": {
      "text/plain": [
       "'Ԫ   �   Ꙭ   ℻   Ǆ   Ꚗ   Ꚙ   Ꝏ   Ǳ   Ꚅ   Ѭ   ‱   ǅ   Ꟃ   Ѹ   Ꜵ   ॵ   Ꜳ   ʥ   औ   ꟿ   ʤ   ԫ   Ǌ   ऑ   ǋ   ऒ   ǆ   ‰   Ԭ   ᵺ   ǲ   Ѽ   Щ   ꭦ   ओ   Ŵ   Ꝡ   Ӎ   Ꙝ   Ꙧ   Ѿ   Ƣ   Ԣ   Ɱ   Ѩ   ﬄ   Ҧ   ꚗ   ॠ   Ḿ   Ẅ   Ẃ   Ю   Ẁ   Ꙕ   Ꚛ   ॴ   ₯   ꭁ   Ṃ   Ṁ   Ẉ   Ẇ   ￼   ख़   Ԡ   Ǿ   ʣ   Ꜽ   Ш   ℔   №   ǳ   ⁂   ﬃ   Ǣ   ᾮ   ᾯ   ѹ   Ꙣ   Ԙ   Ꜩ   Ӂ   Ꝙ   Ҋ   Œ   Ɯ   ꙭ   Ǽ   ₪   M   М   Μ   ꟽ   Ԝ   W   आ   Ⱳ   ȹ'"
      ]
     },
     "execution_count": 10,
     "metadata": {},
     "output_type": "execute_result"
    }
   ],
   "source": [
    "\n",
    "dfu['pixel_count_complexity'] = dfu.picture.apply(pixel_count_complexity)\n",
    "\n",
    "'   '.join(dfu.sort_values('pixel_count_complexity',ascending=True).rep.iloc[:100].values)\n"
   ]
  },
  {
   "cell_type": "code",
   "execution_count": 11,
   "id": "cc8d0e53",
   "metadata": {},
   "outputs": [
    {
     "name": "stdout",
     "output_type": "stream",
     "text": [
      "    code                       note rep     language  \\\n",
      "0   0020                      SPACE            SPACE   \n",
      "1   0021           EXCLAMATION MARK   !  EXCLAMATION   \n",
      "2   0022             QUOTATION MARK   \"    QUOTATION   \n",
      "3   0023                NUMBER SIGN   #       NUMBER   \n",
      "4   0024                DOLLAR SIGN   $       DOLLAR   \n",
      "..   ...                        ...  ..          ...   \n",
      "95  00A0             NO-BREAK SPACE         NO-BREAK   \n",
      "96  00A1  INVERTED EXCLAMATION MARK   ¡     INVERTED   \n",
      "97  00A2                  CENT SIGN   ¢         CENT   \n",
      "98  00A3                 POUND SIGN   £        POUND   \n",
      "99  00A4              CURRENCY SIGN   ¤     CURRENCY   \n",
      "\n",
      "                                              picture  pixel_count_complexity  \\\n",
      "0   [[1.0, 1.0, 1.0, 1.0, 1.0, 1.0, 1.0, 1.0, 1.0,...                1.000000   \n",
      "1   [[1.0, 1.0, 1.0, 1.0, 1.0, 1.0, 1.0, 1.0, 1.0,...                0.991080   \n",
      "2   [[1.0, 1.0, 1.0, 1.0, 1.0, 1.0, 1.0, 1.0, 1.0,...                0.993807   \n",
      "3   [[1.0, 1.0, 1.0, 1.0, 1.0, 1.0, 1.0, 1.0, 1.0,...                0.974948   \n",
      "4   [[1.0, 1.0, 1.0, 1.0, 1.0, 1.0, 1.0, 1.0, 1.0,...                0.975434   \n",
      "..                                                ...                     ...   \n",
      "95  [[1.0, 1.0, 1.0, 1.0, 1.0, 1.0, 1.0, 1.0, 1.0,...                1.000000   \n",
      "96  [[1.0, 1.0, 1.0, 1.0, 1.0, 1.0, 1.0, 1.0, 1.0,...                0.991004   \n",
      "97  [[1.0, 1.0, 1.0, 1.0, 1.0, 1.0, 1.0, 1.0, 1.0,...                0.984801   \n",
      "98  [[1.0, 1.0, 1.0, 1.0, 1.0, 1.0, 1.0, 1.0, 1.0,...                0.978730   \n",
      "99  [[1.0, 1.0, 1.0, 1.0, 1.0, 1.0, 1.0, 1.0, 1.0,...                0.985269   \n",
      "\n",
      "                                   distance_transform  \n",
      "0   [[1.0, 1.4142135623730951, 2.23606797749979, 3...  \n",
      "1   [[331.8101867031813, 331.0060422409235, 330.20...  \n",
      "2   [[329.40097146183405, 328.60006086426705, 327....  \n",
      "3   [[355.37304343464206, 354.63361374804845, 353....  \n",
      "4   [[346.09969661934116, 345.3259329966401, 344.5...  \n",
      "..                                                ...  \n",
      "95  [[1.0, 1.4142135623730951, 2.23606797749979, 3...  \n",
      "96  [[355.60089988637543, 354.8534908944817, 354.1...  \n",
      "97  [[359.2005011132362, 358.42153953131776, 357.6...  \n",
      "98  [[352.0227265390688, 351.2164574731657, 350.41...  \n",
      "99  [[350.7035785389137, 349.954282728473, 349.206...  \n",
      "\n",
      "[100 rows x 7 columns]\n"
     ]
    }
   ],
   "source": [
    "\n",
    "# Create a subset of the dataframe\n",
    "sub_df = dfu.head(100).copy()\n",
    "\n",
    "# Add the 'distance_transform' column to the subset dataframe\n",
    "sub_df['distance_transform'] = sub_df.code.apply(lambda x: apply_distance_transform(make_picture(x, 'data/ttfs/NotoSans-Regular.ttf')))\n",
    "\n",
    "print(sub_df)\n",
    "with open('distance_transform.txt', 'w') as file:\n",
    "    for value in sub_df['distance_transform'].values:\n",
    "        np.savetxt(file, value, fmt='%.2f')\n",
    "        file.write('\\n')\n",
    "\n"
   ]
  },
  {
   "cell_type": "code",
   "execution_count": 12,
   "id": "8d21421a",
   "metadata": {},
   "outputs": [
    {
     "data": {
      "image/png": "[encoded data removed]",
      "text/plain": [
       "<Figure size 640x480 with 1 Axes>"
      ]
     },
     "metadata": {},
     "output_type": "display_data"
    }
   ],
   "source": [
    "\n",
    "sub_df = dfu.head(100).copy()\n",
    "\n",
    "\n",
    "plt.hist(sub_df.pixel_count_complexity,\n",
    "        bins=np.arange(.994,1.0002,.0001))\n",
    "plt.yscale('log')\n",
    "plt.show()"
   ]
  },
  {
   "cell_type": "code",
   "execution_count": 13,
   "id": "3ecc9b0b-ff96-4793-8611-867ba0bea807",
   "metadata": {},
   "outputs": [
    {
     "data": {
      "image/png": "[encoded data removed]",
      "text/plain": [
       "<Figure size 640x480 with 1 Axes>"
      ]
     },
     "metadata": {},
     "output_type": "display_data"
    }
   ],
   "source": [
    "\n",
    "#this code is for the whole dataframe.\n",
    "plt.hist(dfu.pixel_count_complexity,\n",
    "        bins=np.arange(.994,1.0002,.0001))\n",
    "plt.yscale('log')\n",
    "plt.show()\n"
   ]
  },
  {
   "cell_type": "code",
   "execution_count": null,
   "id": "475827ba-288d-4735-9d17-58dd0845a5de",
   "metadata": {},
   "outputs": [],
   "source": []
  }
 ],
 "metadata": {
  "kernelspec": {
   "display_name": "Python 3 (ipykernel)",
   "language": "python",
   "name": "python3"
  },
  "language_info": {
   "codemirror_mode": {
    "name": "ipython",
    "version": 3
   },
   "file_extension": ".py",
   "mimetype": "text/x-python",
   "name": "python",
   "nbconvert_exporter": "python",
   "pygments_lexer": "ipython3",
   "version": "3.9.13"
  }
 },
 "nbformat": 4,
 "nbformat_minor": 5
}
