{
 "cells": [
  {
   "cell_type": "code",
   "execution_count": 1,
   "id": "376cfeb6-904e-4da2-8019-d200d6b739b8",
   "metadata": {},
   "outputs": [],
   "source": [
    "%%capture\n",
    "cd .."
   ]
  },
  {
   "cell_type": "code",
   "execution_count": 2,
   "id": "bddef2cc-0e9c-40d5-a09d-8b11bb04d8d8",
   "metadata": {},
   "outputs": [],
   "source": [
    "import numpy as np\n",
    "from matplotlib import pyplot as plt\n",
<<<<<<< HEAD
    "from utils.unicode_utils import *\n",
    "from utils.complexity_metrics import *\n",
    "import pandas as pd\n",
    "import matplotlib.pyplot as plt\n",
    "from scipy.ndimage import maximum_filter\n"
=======
    "from utils.unicode_utils import create_df_unicode, code_type, get_language, make_picture\n",
    "from utils.complexity_metrics import *"
>>>>>>> e66fde3746fcbfece83bda7f07273d6421faa888
   ]
  },
  {
   "cell_type": "code",
   "execution_count": 3,
   "id": "5dac31d7-45cc-4b67-9f8f-b8aa4282e09c",
   "metadata": {
    "tags": []
   },
   "outputs": [
    {
     "data": {
      "text/html": [
       "<div>\n",
       "<style scoped>\n",
       "    .dataframe tbody tr th:only-of-type {\n",
       "        vertical-align: middle;\n",
       "    }\n",
       "\n",
       "    .dataframe tbody tr th {\n",
       "        vertical-align: top;\n",
       "    }\n",
       "\n",
       "    .dataframe thead th {\n",
       "        text-align: right;\n",
       "    }\n",
       "</style>\n",
       "<table border=\"1\" class=\"dataframe\">\n",
       "  <thead>\n",
       "    <tr style=\"text-align: right;\">\n",
       "      <th></th>\n",
       "      <th>code</th>\n",
       "      <th>note</th>\n",
       "      <th>rep</th>\n",
       "    </tr>\n",
       "  </thead>\n",
       "  <tbody>\n",
       "    <tr>\n",
       "      <th>0</th>\n",
       "      <td>0020</td>\n",
       "      <td>SPACE</td>\n",
       "      <td></td>\n",
       "    </tr>\n",
       "    <tr>\n",
       "      <th>1</th>\n",
       "      <td>0021</td>\n",
       "      <td>EXCLAMATION MARK</td>\n",
       "      <td>!</td>\n",
       "    </tr>\n",
       "    <tr>\n",
       "      <th>2</th>\n",
       "      <td>0022</td>\n",
       "      <td>QUOTATION MARK</td>\n",
       "      <td>\"</td>\n",
       "    </tr>\n",
       "    <tr>\n",
       "      <th>3</th>\n",
       "      <td>0023</td>\n",
       "      <td>NUMBER SIGN</td>\n",
       "      <td>#</td>\n",
       "    </tr>\n",
       "    <tr>\n",
       "      <th>4</th>\n",
       "      <td>0024</td>\n",
       "      <td>DOLLAR SIGN</td>\n",
       "      <td>$</td>\n",
       "    </tr>\n",
       "    <tr>\n",
       "      <th>...</th>\n",
       "      <td>...</td>\n",
       "      <td>...</td>\n",
       "      <td>...</td>\n",
       "    </tr>\n",
       "    <tr>\n",
       "      <th>34818</th>\n",
       "      <td>E01EB</td>\n",
       "      <td>VARIATION SELECTOR-252</td>\n",
       "      <td>󠇫</td>\n",
       "    </tr>\n",
       "    <tr>\n",
       "      <th>34819</th>\n",
       "      <td>E01EC</td>\n",
       "      <td>VARIATION SELECTOR-253</td>\n",
       "      <td>󠇬</td>\n",
       "    </tr>\n",
       "    <tr>\n",
       "      <th>34820</th>\n",
       "      <td>E01ED</td>\n",
       "      <td>VARIATION SELECTOR-254</td>\n",
       "      <td>󠇭</td>\n",
       "    </tr>\n",
       "    <tr>\n",
       "      <th>34821</th>\n",
       "      <td>E01EE</td>\n",
       "      <td>VARIATION SELECTOR-255</td>\n",
       "      <td>󠇮</td>\n",
       "    </tr>\n",
       "    <tr>\n",
       "      <th>34822</th>\n",
       "      <td>E01EF</td>\n",
       "      <td>VARIATION SELECTOR-256</td>\n",
       "      <td>󠇯</td>\n",
       "    </tr>\n",
       "  </tbody>\n",
       "</table>\n",
       "<p>34823 rows × 3 columns</p>\n",
       "</div>"
      ],
      "text/plain": [
       "        code                    note rep\n",
       "0       0020                   SPACE    \n",
       "1       0021        EXCLAMATION MARK   !\n",
       "2       0022          QUOTATION MARK   \"\n",
       "3       0023             NUMBER SIGN   #\n",
       "4       0024             DOLLAR SIGN   $\n",
       "...      ...                     ...  ..\n",
       "34818  E01EB  VARIATION SELECTOR-252   󠇫\n",
       "34819  E01EC  VARIATION SELECTOR-253   󠇬\n",
       "34820  E01ED  VARIATION SELECTOR-254   󠇭\n",
       "34821  E01EE  VARIATION SELECTOR-255   󠇮\n",
       "34822  E01EF  VARIATION SELECTOR-256   󠇯\n",
       "\n",
       "[34823 rows x 3 columns]"
      ]
     },
     "execution_count": 3,
     "metadata": {},
     "output_type": "execute_result"
    }
   ],
   "source": [
    "df_unicode = create_df_unicode()\n",
    "\n",
    "df_unicode"
   ]
  },
  {
   "cell_type": "code",
   "execution_count": null,
   "id": "ec92599f",
   "metadata": {},
   "outputs": [],
   "source": []
  },
  {
   "cell_type": "code",
   "execution_count": 4,
   "id": "8cc8c6ed-97aa-4849-b5d5-ddea758287db",
   "metadata": {
    "tags": []
   },
   "outputs": [
    {
     "data": {
      "text/plain": [
       "ARABIC         1330\n",
       "CUNEIFORM      1234\n",
       "YI             1220\n",
       "LATIN          1213\n",
       "CJK            1165\n",
       "               ... \n",
       "GROUP             1\n",
       "UNCERTAINTY       1\n",
       "NEPTUNE           1\n",
       "BALLOT            1\n",
       "SPACE             1\n",
       "Name: language, Length: 819, dtype: int64"
      ]
     },
     "execution_count": 4,
     "metadata": {},
     "output_type": "execute_result"
    }
   ],
   "source": [
    "dfu=df_unicode[df_unicode.code.apply(code_type)=='Writing Symbol'].reset_index(drop=True)\n",
    "dfu['language'] = dfu.note.apply(get_language)\n",
    "dfu.language.value_counts()            "
   ]
  },
  {
   "cell_type": "code",
   "execution_count": 5,
   "id": "870f8f77-ef10-479e-9c4a-95666386fe01",
   "metadata": {},
   "outputs": [],
   "source": [
    "#for i in dfu.language.value_counts().index:\n",
    "    #print(i)\n",
    "    #print(' '.join([u(k) for k in dfu[dfu.language==i].code]))"
   ]
  },
  {
   "cell_type": "code",
   "execution_count": 6,
   "id": "a8979a63-6cde-49b2-abdd-bf8b8d698fed",
   "metadata": {},
   "outputs": [
    {
     "data": {
      "text/plain": [
       "'က ခ ဂ ဃ င စ ဆ ဇ ဈ ဉ ည ဋ ဌ ဍ ဎ ဏ တ ထ ဒ ဓ န ပ ဖ ဗ ဘ မ ယ ရ လ ဝ သ ဟ ဠ အ ဢ ဣ ဤ ဥ ဦ ဧ ဨ ဩ ဪ ါ ာ ိ ီ ု ူ ေ ဲ ဳ ဴ ဵ ံ ့ း ္ ် ျ ြ ွ ှ ဿ ၀ ၁ ၂ ၃ ၄ ၅ ၆ ၇ ၈ ၉ ၊ ။ ၌ ၍ ၎ ၏ ၐ ၑ ၒ ၓ ၔ ၕ ၖ ၗ ၘ ၙ ၚ ၛ ၜ ၝ ၞ ၟ ၠ ၡ ၢ ၣ ၤ ၥ ၦ ၧ ၨ ၩ ၪ ၫ ၬ ၭ ၮ ၯ ၰ ၱ ၲ ၳ ၴ ၵ ၶ ၷ ၸ ၹ ၺ ၻ ၼ ၽ ၾ ၿ ႀ ႁ ႂ ႃ ႄ ႅ ႆ ႇ ႈ ႉ ႊ ႋ ႌ ႍ ႎ ႏ ႐ ႑ ႒ ႓ ႔ ႕ ႖ ႗ ႘ ႙ ႚ ႛ ႜ ႝ ႞ ႟ ꧠ ꧡ ꧢ ꧣ ꧤ ꧥ ꧦ ꧧ ꧨ ꧩ ꧪ ꧫ ꧬ ꧭ ꧮ ꧯ ꧰ ꧱ ꧲ ꧳ ꧴ ꧵ ꧶ ꧷ ꧸ ꧹ ꧺ ꧻ ꧼ ꧽ ꧾ ꩠ ꩡ ꩢ ꩣ ꩤ ꩥ ꩦ ꩧ ꩨ ꩩ ꩪ ꩫ ꩬ ꩭ ꩮ ꩯ ꩰ ꩱ ꩲ ꩳ ꩴ ꩵ ꩶ ꩷ ꩸ ꩹ ꩺ ꩻ ꩼ ꩽ ꩾ ꩿ'"
      ]
     },
     "execution_count": 6,
     "metadata": {},
     "output_type": "execute_result"
    }
   ],
   "source": [
    "' '.join(dfu[dfu.language=='MYANMAR'].rep)\n"
   ]
  },
  {
   "cell_type": "code",
   "execution_count": 7,
   "id": "818eb9be",
<<<<<<< HEAD
   "metadata": {},
   "outputs": [
    {
     "name": "stdout",
     "output_type": "stream",
     "text": [
      "0                                   (1.0, 1.0)\n",
      "1     (0.9821597803921569, 0.9929117176470589)\n",
      "2     (0.9876136156862745, 0.9876136156862745)\n",
      "3      (0.9498956549019608, 0.967283137254902)\n",
      "4     (0.9508681098039216, 0.9705386980392157)\n",
      "                        ...                   \n",
      "95                                  (1.0, 1.0)\n",
      "96    (0.9820082196078431, 0.9838325333333333)\n",
      "97      (0.969601537254902, 0.975302431372549)\n",
      "98    (0.9574592941176471, 0.9691638901960784)\n",
      "99     (0.9705386666666667, 0.979964674509804)\n",
      "Name: picture, Length: 100, dtype: object\n",
      "CPU times: user 538 ms, sys: 65.4 ms, total: 603 ms\n",
      "Wall time: 606 ms\n"
     ]
    }
   ],
   "source": [
    "%%time\n",
    "\n",
    "#this code prints the symmetry ratios(left-to-right, top-to-bottom) for the first 100 characters in the dfu df, and the 100th character's pic\n",
    "\n",
    "sub_df = dfu.head(100).copy()\n",
    "sub_df['picture'] = sub_df.code.apply(lambda x: make_picture(x, 'data/ttfs/NotoSans-Regular.ttf'))\n",
    "\n",
    "symmetry = sub_df.picture.apply(check_symmetry)\n",
    "print(symmetry)\n",
    "\n",
    "\n"
   ]
  },
  {
   "cell_type": "code",
   "execution_count": 8,
   "id": "ba0e4d94",
=======
>>>>>>> e66fde3746fcbfece83bda7f07273d6421faa888
   "metadata": {},
   "outputs": [
    {
     "name": "stdout",
     "output_type": "stream",
     "text": [
      "0               (1.0, 1.0)\n",
      "1      (0.98088, 0.991432)\n",
      "2     (0.986672, 0.986672)\n",
      "3     (0.946056, 0.962696)\n",
      "4     (0.947248, 0.967336)\n",
      "              ...         \n",
      "95              (1.0, 1.0)\n",
      "96    (0.980648, 0.982312)\n",
      "97       (0.96756, 0.9736)\n",
      "98    (0.955656, 0.967352)\n",
      "99     (0.967808, 0.97736)\n",
      "Name: picture, Length: 100, dtype: object\n"
     ]
    },
    {
     "data": {
<<<<<<< HEAD
      "text/plain": [
       "'M   W   @   %   &   Q   B   N   m   O   D   g   w   G   R   8   H   #   $   p   q   d   b   K   U   0   A   9   6   E   P   Z   £   h   4   X   5   3   S   V   k   e   2   y   a   C   o   u   F   n   Y   T   x   7   ¢   ]   [   s   ¤   v   f   {   }   J   z   L   I   j   c   t   *   ?   )   (   1   |   l   =   r   >   <   +   ^   \\\\   /   i   ¡   !   \"   ~   ;   _   :   ,   \\'   -   `   .   \\xa0    '"
      ]
     },
     "execution_count": 8,
     "metadata": {},
     "output_type": "execute_result"
    }
   ],
   "source": [
    "sub_df['pixel_count_complexity'] = sub_df.picture.apply(pixel_count_complexity)\n",
    "\n",
    "'   '.join(sub_df.sort_values('pixel_count_complexity', ascending=True).rep.iloc[:100].values)"
   ]
  },
  {
   "cell_type": "code",
   "execution_count": 9,
   "id": "bc6938c8-017e-48f4-a755-2ccbeb620ccd",
   "metadata": {},
   "outputs": [
=======
      "image/png": "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",
      "text/plain": [
       "<Figure size 640x480 with 1 Axes>"
      ]
     },
     "metadata": {},
     "output_type": "display_data"
    },
>>>>>>> e66fde3746fcbfece83bda7f07273d6421faa888
    {
     "name": "stdout",
     "output_type": "stream",
     "text": [
<<<<<<< HEAD
      "0                                      (1.0, 1.0)\n",
      "1        (0.9821597803921569, 0.9929117176470589)\n",
      "2        (0.9876136156862745, 0.9876136156862745)\n",
      "3         (0.9498956549019608, 0.967283137254902)\n",
      "4        (0.9508681098039216, 0.9705386980392157)\n",
      "                           ...                   \n",
      "33041             (0.9665952, 0.9841628862745098)\n",
      "33042             (0.9665952, 0.9841628862745098)\n",
      "33043             (0.9665952, 0.9841628862745098)\n",
      "33044             (0.9665952, 0.9841628862745098)\n",
      "33045             (0.9665952, 0.9841628862745098)\n",
      "Name: picture, Length: 33046, dtype: object\n",
      "CPU times: user 3min 5s, sys: 30.3 s, total: 3min 35s\n",
      "Wall time: 4min 9s\n"
=======
      "CPU times: user 10.4 s, sys: 79.6 ms, total: 10.5 s\n",
      "Wall time: 10.6 s\n"
>>>>>>> e66fde3746fcbfece83bda7f07273d6421faa888
     ]
    }
   ],
   "source": [
    "%%time\n",
<<<<<<< HEAD
    "#this code checks the symmetry ratios for the whole dataframe, and prints the picture of the 2280th character in the df\n",
    "\n",
    "dfu['picture'] = dfu.code.apply(lambda x: make_picture(x, 'data/ttfs/NotoSans-Regular.ttf'))\n",
    "\n",
    "\n",
    "symmetry = dfu.picture.apply(check_symmetry)\n",
    "print(symmetry)\n",
    "\n"
=======
    "\n",
    "#this code prints the symmetry ratios(left-to-right, top-to-bottom) for the first 100 characters in the dfu df, and the 100th character's pic\n",
    "\n",
    "sub_df = dfu.head(100).copy()\n",
    "sub_df['picture'] = sub_df.code.apply(lambda x: make_picture(x, 'data/ttfs/NotoSans-Regular.ttf'))\n",
    "\n",
    "symmetry = sub_df.picture.apply(check_symmetry)\n",
    "print(symmetry)\n",
    "\n",
    "if len(sub_df) > 99:\n",
    "    plt.imshow(sub_df.iloc[99].picture, cmap='gray')\n",
    "    plt.show()\n",
    "else:\n",
    "    print('invalid index')\n"
>>>>>>> e66fde3746fcbfece83bda7f07273d6421faa888
   ]
  },
  {
   "cell_type": "code",
<<<<<<< HEAD
   "execution_count": 10,
   "id": "dc2df00f-66d1-48ad-b0f9-86c5d5ee939f",
=======
   "execution_count": 8,
   "id": "bc6938c8-017e-48f4-a755-2ccbeb620ccd",
>>>>>>> e66fde3746fcbfece83bda7f07273d6421faa888
   "metadata": {},
   "outputs": [
    {
     "data": {
      "text/plain": [
<<<<<<< HEAD
       "'Ԫ   �   Ꙭ   ℻   Ǆ   Ꚗ   Ꚙ   Ꝏ   Ǳ   Ꚅ   Ѭ   ‱   ǅ   Ꟃ   Ѹ   Ꜵ   ॵ   Ꜳ   ʥ   औ   ꟿ   ʤ   ԫ   Ǌ   ऑ   ǋ   ऒ   ǆ   ‰   Ԭ   ᵺ   ǲ   Ѽ   Щ   ꭦ   ओ   Ŵ   Ꝡ   Ӎ   Ꙝ   Ꙧ   Ѿ   Ƣ   Ԣ   Ɱ   Ѩ   ﬄ   Ҧ   ꚗ   ॠ   Ḿ   Ẅ   Ẃ   Ю   Ẁ   Ꙕ   Ꚛ   ॴ   ₯   ꭁ   Ṃ   Ṁ   Ẉ   Ẇ   ￼   ख़   Ԡ   Ǿ   ʣ   Ꜽ   Ш   ℔   №   ǳ   ⁂   ﬃ   Ǣ   ᾮ   ᾯ   ѹ   Ꙣ   Ԙ   Ꜩ   Ӂ   Ꝙ   Ҋ   Œ   Ɯ   ꙭ   Ǽ   ₪   M   М   Μ   ꟽ   Ԝ   W   आ   Ⱳ   ȹ'"
=======
       "\"\\n\\n#this code is for the whole dataframe. it takes a long time to run, so I commented it out.\\n\\n%%time\\n\\ndfu['picture'] = dfu.code.apply(lambda x: make_picture(x, 'data/ttfs/NotoSans-Regular.ttf'))\\n\\n\\nsymmetry = dfu.picture.apply(check_symmetry)\\nprint(symmetry)\\nif len(dfu)>0:\\n\\n    plt.imshow(dfu.iloc[0].picture, cmap='gray')\\n    plt.show()\\nelse:\\n    print('invalid index')\\n\""
>>>>>>> e66fde3746fcbfece83bda7f07273d6421faa888
      ]
     },
     "execution_count": 10,
     "metadata": {},
     "output_type": "execute_result"
    }
   ],
   "source": [
<<<<<<< HEAD
    "\n",
    "dfu['pixel_count_complexity'] = dfu.picture.apply(pixel_count_complexity)\n",
    "\n",
    "'   '.join(dfu.sort_values('pixel_count_complexity',ascending=True).rep.iloc[:100].values)\n"
=======
    "\"\"\"\n",
    "\n",
    "#this code is for the whole dataframe. it takes a long time to run, so I commented it out.\n",
    "\n",
    "%%time\n",
    "\n",
    "dfu['picture'] = dfu.code.apply(lambda x: make_picture(x, 'data/ttfs/NotoSans-Regular.ttf'))\n",
    "\n",
    "\n",
    "symmetry = dfu.picture.apply(check_symmetry)\n",
    "print(symmetry)\n",
    "if len(dfu)>0:\n",
    "\n",
    "    plt.imshow(dfu.iloc[0].picture, cmap='gray')\n",
    "    plt.show()\n",
    "else:\n",
    "    print('invalid index')\n",
    "\"\"\""
>>>>>>> e66fde3746fcbfece83bda7f07273d6421faa888
   ]
  },
  {
   "cell_type": "code",
<<<<<<< HEAD
   "execution_count": 11,
   "id": "cc8d0e53",
   "metadata": {},
   "outputs": [
    {
     "data": {
      "text/plain": [
       "'\\nvalidates the accuracy of the stored distance transform values for each character in the dataframe.\\n'"
      ]
     },
     "execution_count": 11,
     "metadata": {},
     "output_type": "execute_result"
    }
   ],
   "source": [
    "\"\"\"\n",
    "validates the accuracy of the stored distance transform values for each character in the dataframe.\n",
    "\"\"\"\n",
    "\n",
    "\n",
    "#generate subset dataframes in batches of 100\n",
    "#num_rows = len(dfu)\n",
    "#batch_size = 100\n",
    "\n",
    "#for i in range(0, num_rows, batch_size):\n",
    "    #sub_dfu = dfu[i:i+batch_size].copy()\n",
    "\n",
    "    # add distance_transform col to sub_dfu dataframe\n",
    "    #sub_dfu['distance_transform'] = sub_dfu.picture.apply(distance_transform_edt)\n",
    "\n",
    "    #for index, row in sub_dfu.iterrows():\n",
    "        #character = row['picture']\n",
    "        #distance_transform = row['distance_transform']\n",
    "\n",
    "        #calculate the distance transform separately\n",
    "        #calculated_distance_transform = distance_transform_edt(character)\n",
    "\n",
    "        #compare the calculated distance transform with the stored values\n",
    "        #if np.array_equal(distance_transform, calculated_distance_transform):\n",
    "            #print(f\"Distance transform values match for character {row['code']}\")\n",
    "        #else:\n",
    "            #print(f\"Distance transform values don't match for character {row['code']}\")\n",
    "    \n",
    "    #print(sub_dfu[['code', 'picture', 'distance_transform']].head(100))\n",
    "\n",
    "    # Save the output to CSV\n",
    "    #sub_dfu[['code', 'picture', 'distance_transform']].to_csv(f'distance_transform_output_{i}.csv', index=False)\n"
   ]
  },
  {
   "cell_type": "code",
   "execution_count": 12,
   "id": "6c64a423",
   "metadata": {},
   "outputs": [],
   "source": [
    "\"\"\"\n",
    "quantifies the complexity of each character based on its distance transform values. \n",
    "\"\"\"\n",
    "\n",
    "\n",
    "#calculate complexity scores for the entire dfu dataframe\n",
    "complexity_scores = []\n",
    "\n",
    "for index, row in dfu.iterrows():\n",
    "    character = row['picture']\n",
    "    distance_transform = distance_transform_edt(character)\n",
    "\n",
    "    #normalize distance transform values between 0 and 1\n",
    "    normalized_dt = (distance_transform - np.min(distance_transform)) / (np.max(distance_transform) - np.min(distance_transform))\n",
    "\n",
    "    #calculate complexity score (ie, avg of normalized values)\n",
    "    complexity_score = np.mean(normalized_dt)\n",
    "    complexity_scores.append(complexity_score)\n",
    "\n",
    "# assign complexity scores to the df\n",
    "dfu['complexity_score'] = complexity_scores\n",
    "\n",
    "print(dfu[['code', 'picture', 'complexity_score']])\n"
   ]
  },
  {
   "cell_type": "code",
   "execution_count": 13,
   "id": "e1aa7573",
=======
   "execution_count": 9,
   "id": "39d09776",
>>>>>>> e66fde3746fcbfece83bda7f07273d6421faa888
   "metadata": {},
   "outputs": [
    {
     "data": {
<<<<<<< HEAD
      "image/png": "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",
      "text/plain": [
       "<Figure size 640x480 with 2 Axes>"
      ]
     },
     "metadata": {},
     "output_type": "display_data"
    }
   ],
   "source": [
    "\"\"\"\n",
    "visualizes the distance transform array and overlays the coordinates of local maxima on top of the image\n",
    "\"\"\"\n",
    "\n",
    "\n",
    "#calculate the local maxima\n",
    "footprint = np.ones((3, 3), dtype=bool)\n",
    "local_maxima = (distance_transform == maximum_filter(distance_transform, footprint=footprint, mode='constant'))\n",
    "\n",
    "#get coordinates of the local maxima\n",
    "local_maxima_coords = np.argwhere(local_maxima)\n",
    "\n",
    "# display the distance transform array\n",
    "plt.imshow(distance_transform, cmap='gray')\n",
    "plt.colorbar()\n",
    "\n",
    "# plot the local maxima coordinates on top of the image\n",
    "x_coords = [coord[1] for coord in local_maxima_coords]\n",
    "y_coords = [coord[0] for coord in local_maxima_coords]\n",
    "plt.scatter(x_coords, y_coords, color='red', marker='x')\n",
    "\n",
    "plt.xlabel('X-axis')\n",
    "plt.ylabel('Y-axis')\n",
    "plt.title('Distance Transform with Local Maxima')\n",
    "\n",
    "plt.show()\n"
=======
      "text/plain": [
       "'M   W   @   %   &   Q   B   N   m   O   D   g   w   G   R   8   H   #   $   p   q   d   b   K   U   0   A   9   6   E   P   Z   £   h   4   X   5   3   S   V   k   e   2   y   a   C   o   u   F   n   Y   T   x   7   ¢   ]   [   s   ¤   v   f   {   }   J   z   L   I   j   c   t   *   ?   )   (   1   |   l   =   r   >   <   +   ^   \\\\   /   i   ¡   !   \"   ~   ;   _   :   ,   \\'   -   `   .   \\xa0    '"
      ]
     },
     "execution_count": 9,
     "metadata": {},
     "output_type": "execute_result"
    }
   ],
   "source": [
    "sub_df['pixel_count_complexity'] = sub_df.picture.apply(pixel_count_complexity)\n",
    "\n",
    "'   '.join(sub_df.sort_values('pixel_count_complexity', ascending=True).rep.iloc[:100].values)\n"
>>>>>>> e66fde3746fcbfece83bda7f07273d6421faa888
   ]
  },
  {
   "cell_type": "code",
<<<<<<< HEAD
   "execution_count": 14,
   "id": "8d21421a",
=======
   "execution_count": 10,
   "id": "dc2df00f-66d1-48ad-b0f9-86c5d5ee939f",
>>>>>>> e66fde3746fcbfece83bda7f07273d6421faa888
   "metadata": {},
   "outputs": [
    {
     "data": {
<<<<<<< HEAD
      "image/png": "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",
      "text/plain": [
       "<Figure size 640x480 with 1 Axes>"
      ]
     },
=======
      "text/plain": [
       "\"\\n\\n#this code is for the whole dataframe. \\n\\ndfu['pixel_count_complexity'] = dfu.picture.apply(pixel_count_complexity)\\n\\n'   '.join(dfu.sort_values('pixel_count_complexity',ascending=True).rep.iloc[:100].values)\\n\""
      ]
     },
     "execution_count": 10,
     "metadata": {},
     "output_type": "execute_result"
    }
   ],
   "source": [
    "\"\"\"\n",
    "\n",
    "#this code is for the whole dataframe. \n",
    "\n",
    "dfu['pixel_count_complexity'] = dfu.picture.apply(pixel_count_complexity)\n",
    "\n",
    "'   '.join(dfu.sort_values('pixel_count_complexity',ascending=True).rep.iloc[:100].values)\n",
    "\"\"\""
   ]
  },
  {
   "cell_type": "code",
   "execution_count": 11,
   "id": "8d21421a",
   "metadata": {},
   "outputs": [
    {
     "data": {
      "image/png": "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",
      "text/plain": [
       "<Figure size 640x480 with 1 Axes>"
      ]
     },
>>>>>>> e66fde3746fcbfece83bda7f07273d6421faa888
     "metadata": {},
     "output_type": "display_data"
    }
   ],
   "source": [
<<<<<<< HEAD
    "\n",
    "sub_df = dfu.head(100).copy()\n",
    "\n",
    "\n",
=======
>>>>>>> e66fde3746fcbfece83bda7f07273d6421faa888
    "plt.hist(sub_df.pixel_count_complexity,\n",
    "        bins=np.arange(.994,1.0002,.0001))\n",
    "plt.yscale('log')\n",
    "plt.show()"
   ]
  },
  {
   "cell_type": "code",
<<<<<<< HEAD
   "execution_count": 15,
   "id": "3ecc9b0b-ff96-4793-8611-867ba0bea807",
=======
   "execution_count": 12,
   "id": "3ecc9b0b-ff96-4793-8611-867ba0bea807",
   "metadata": {},
   "outputs": [
    {
     "data": {
      "text/plain": [
       "\"\\n#this code is for the whole dataframe.\\n\\nplt.hist(dfu.pixel_count_complexity,\\n        bins=np.arange(.994,1.0002,.0001))\\nplt.yscale('log')\\nplt.show()\\n\""
      ]
     },
     "execution_count": 12,
     "metadata": {},
     "output_type": "execute_result"
    }
   ],
   "source": [
    "\"\"\"\n",
    "#this code is for the whole dataframe.\n",
    "\n",
    "plt.hist(dfu.pixel_count_complexity,\n",
    "        bins=np.arange(.994,1.0002,.0001))\n",
    "plt.yscale('log')\n",
    "plt.show()\n",
    "\"\"\""
   ]
  },
  {
   "cell_type": "code",
   "execution_count": null,
   "id": "475827ba-288d-4735-9d17-58dd0845a5de",
>>>>>>> e66fde3746fcbfece83bda7f07273d6421faa888
   "metadata": {},
   "outputs": [
    {
     "data": {
      "image/png": "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",
      "text/plain": [
       "<Figure size 640x480 with 1 Axes>"
      ]
     },
     "metadata": {},
     "output_type": "display_data"
    }
   ],
   "source": [
    "\n",
    "#this code is for the whole dataframe.\n",
    "plt.hist(dfu.pixel_count_complexity,\n",
    "        bins=np.arange(.994,1.0002,.0001))\n",
    "plt.yscale('log')\n",
    "plt.show()\n"
   ]
  }
 ],
 "metadata": {
  "kernelspec": {
   "display_name": "Python 3 (ipykernel)",
   "language": "python",
   "name": "python3"
  },
  "language_info": {
   "codemirror_mode": {
    "name": "ipython",
    "version": 3
   },
   "file_extension": ".py",
   "mimetype": "text/x-python",
   "name": "python",
   "nbconvert_exporter": "python",
   "pygments_lexer": "ipython3",
   "version": "3.9.13"
  }
 },
 "nbformat": 4,
 "nbformat_minor": 5
}
