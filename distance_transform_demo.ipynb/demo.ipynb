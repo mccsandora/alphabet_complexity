{
 "cells": [
  {
   "cell_type": "code",
   "execution_count": 1,
   "id": "376cfeb6-904e-4da2-8019-d200d6b739b8",
   "metadata": {},
   "outputs": [],
   "source": [
    "%%capture\n",
    "cd .."
   ]
  },
  {
   "cell_type": "code",
   "execution_count": 2,
   "id": "bddef2cc-0e9c-40d5-a09d-8b11bb04d8d8",
   "metadata": {},
   "outputs": [],
   "source": [
    "import numpy as np\n",
    "from matplotlib import pyplot as plt\n",
    "from utils.unicode_utils import *\n",
    "from utils.complexity_metrics import *\n",
    "from utils.make_dfu import *\n",
    "import pandas as pd\n",
    "import matplotlib.pyplot as plt\n",
    "from scipy.ndimage import maximum_filter\n"
   ]
  },
  {
   "cell_type": "code",
   "execution_count": 3,
   "id": "5dac31d7-45cc-4b67-9f8f-b8aa4282e09c",
   "metadata": {
    "tags": []
   },
   "outputs": [
    {
     "name": "stdout",
     "output_type": "stream",
     "text": [
      "Deleting 815 rows where script was not found. On inspection, these characters are not linguistic.\n",
      "\n",
      "Scripts with no available fonts:\n",
      "SIGNWRITING            672\n",
      "KHITAN SMALL SCRIPT    471\n",
      "LINEAR A               341\n",
      "CYPRO-MINOAN            99\n",
      "KAWI                    87\n",
      "SOGDIAN                 82\n",
      "MASARAM GONDI           75\n",
      "INDIC SIYAQ             68\n",
      "NANDINAGARI             64\n",
      "GUNJALA GONDI           63\n",
      "OTTOMAN SIYAQ           61\n",
      "DOGRA                   60\n",
      "WANCHO                  59\n",
      "HATRAN                  26\n",
      "MAKASAR                 25\n",
      "KATAKANA                24\n",
      "ELYMAIC                 23\n",
      "BOPOMOFO                10\n",
      "HIRAGANA                 7\n",
      "Name: script, dtype: int64\n",
      "\n",
      "Scripts for codes with no matching fonts:\n",
      "CUNEIFORM           1234\n",
      "CJK                  624\n",
      "NUSHU                397\n",
      "MIAO                 140\n",
      "TAI THAM             127\n",
      "HANGUL               117\n",
      "OLD HUNGARIAN        108\n",
      "SIDDHAM               94\n",
      "GEORGIAN              91\n",
      "MEDEFAIDRIN           91\n",
      "TANGSA                89\n",
      "ZANABAZAR SQUARE      72\n",
      "DIVES AKURU           72\n",
      "VITHKUQI              70\n",
      "TAKRI                 68\n",
      "MYANMAR               67\n",
      "AHOM                  65\n",
      "SHAVIAN               48\n",
      "YEZIDI                47\n",
      "MRO                   43\n",
      "NAG MUNDARI           42\n",
      "OLD ITALIC            39\n",
      "TOTO                  31\n",
      "CHORASMIAN            28\n",
      "OLD UYGHUR            26\n",
      "DEVANAGARI            10\n",
      "BENGALI                3\n",
      "LISU                   1\n",
      "Name: script, dtype: int64\n",
      "\n",
      "Fonts that still need to be downloaded:\n",
      "data/ttfs/arnamu.ttf\n",
      "data/ttfs/NuosuSIL.ttf\n",
      "data/ttfs/EversonMono.ttf\n",
      "data/ttfs/NotoSansTibetan-Regular.ttf\n",
      "data/ttfs/Quivira.ttf\n",
      "data/ttfs/DBSILBR.ttf\n",
      "data/ttfs/AksaraBaliGalang.ttf\n",
      "data/ttfs/Batak-Unicode-Regular.otf\n",
      "data/ttfs/CODE2000BIS.TTF\n",
      "data/ttfs/TuladhaJejeg_gr.ttf\n",
      "data/ttfs/Aegean.ttf\n",
      "Padauk Unicode Font\n",
      "data/ttfs/ALPHABETUM.otf\n",
      "data/ttfs/damase_v2.ttf\n",
      "data/ttfs/ahuramazda.ttf\n",
      "data/ttfs/RohingyaKuna.ttf\n",
      "data/ttfs/ArialUnicode.ttf\n",
      "data/ttfs/Code200365k.ttf\n",
      "data/ttfs/RibengUni-Regular.ttf\n",
      "data/ttfs/JGSoyombo.ttf\n",
      "data/ttfs/BabelStoneMarchen.ttf\n",
      "data/ttfs/TangutYinchuan.ttf\n",
      "data/ttfs/MONG1_10.TTF\n",
      "Deleting 9013 rows with no font support.\n",
      "Creating pictures\n"
     ]
    },
    {
     "data": {
      "application/vnd.jupyter.widget-view+json": {
       "model_id": "3c4648c1c7324ea49c0c257430a7e62e",
       "version_major": 2,
       "version_minor": 0
      },
      "text/plain": [
       "  0%|          | 0/23218 [00:00<?, ?it/s]"
      ]
     },
     "metadata": {},
     "output_type": "display_data"
    },
    {
     "name": "stdout",
     "output_type": "stream",
     "text": [
      "character didn't fit: ⸻ character didn't fit: 𑌐 character didn't fit: 𑍌 Checking whether pictures are boxes\n"
     ]
    },
    {
     "data": {
      "application/vnd.jupyter.widget-view+json": {
       "model_id": "243158043c4141d5ac68809cb149d30b",
       "version_major": 2,
       "version_minor": 0
      },
      "text/plain": [
       "  0%|          | 0/23218 [00:00<?, ?it/s]"
      ]
     },
     "metadata": {},
     "output_type": "display_data"
    },
    {
     "name": "stdout",
     "output_type": "stream",
     "text": [
      "Found 4286 boxes\n",
      "Final df has 18932 characters from 102 different scripts.\n"
     ]
    }
   ],
   "source": [
    "dfu = make_dfu()"
   ]
  },
  {
   "cell_type": "code",
   "execution_count": 4,
   "id": "8cc8c6ed-97aa-4849-b5d5-ddea758287db",
   "metadata": {
    "tags": []
   },
   "outputs": [],
   "source": [
    "#dfu=df_unicode[df_unicode.code.apply(code_type)=='Writing Symbol'].reset_index(drop=True)\n",
    "#dfu['language'] = dfu.note.apply(get_language)\n",
    "#dfu.language.value_counts()            "
   ]
  },
  {
   "cell_type": "code",
   "execution_count": 5,
   "id": "870f8f77-ef10-479e-9c4a-95666386fe01",
   "metadata": {},
   "outputs": [],
   "source": [
    "#for i in dfu.language.value_counts().index:\n",
    "    #print(i)\n",
    "    #print(' '.join([u(k) for k in dfu[dfu.language==i].code]))"
   ]
  },
  {
   "cell_type": "code",
   "execution_count": 6,
   "id": "a8979a63-6cde-49b2-abdd-bf8b8d698fed",
   "metadata": {},
   "outputs": [],
   "source": [
    "#' '.join(dfu[dfu.language=='MYANMAR'].rep)\n"
   ]
  },
  {
   "cell_type": "code",
   "execution_count": 7,
   "id": "818eb9be",
   "metadata": {},
   "outputs": [
    {
     "name": "stdout",
     "output_type": "stream",
     "text": [
      "0     (0.9546919215686275, 0.9684819137254902)\n",
      "1     (0.9405768470588235, 0.9634589176470588)\n",
      "2     (0.9621153254901961, 0.9690226196078431)\n",
      "3     (0.9449019921568628, 0.9672999215686274)\n",
      "4     (0.9565430588235294, 0.9720421019607843)\n",
      "                        ...                   \n",
      "95    (0.9801751529411765, 0.9908173490196078)\n",
      "96     (0.980140894117647, 0.9899243607843137)\n",
      "97    (0.9775733647058824, 0.9870771764705882)\n",
      "98    (0.9804592941176471, 0.9852417254901961)\n",
      "99    (0.9494386509803922, 0.9592847372549019)\n",
      "Name: picture, Length: 100, dtype: object\n",
      "CPU times: user 618 ms, sys: 69.8 ms, total: 688 ms\n",
      "Wall time: 711 ms\n"
     ]
    }
   ],
   "source": [
    "%%time\n",
    "\n",
    "#this code prints the symmetry ratios(left-to-right, top-to-bottom) for the first 100 characters in the dfu df, and the 100th character's pic\n",
    "\n",
    "sub_df = dfu.head(100).copy()\n",
    "sub_df['picture'] = sub_df.code.apply(lambda x: make_picture(x, 'data/ttfs/NotoSans-Regular.ttf'))\n",
    "\n",
    "symmetry = sub_df.picture.apply(check_symmetry)\n",
    "print(symmetry)\n",
    "\n",
    "\n"
   ]
  },
  {
   "cell_type": "code",
   "execution_count": 8,
   "id": "ba0e4d94",
   "metadata": {},
   "outputs": [
    {
     "data": {
      "text/plain": [
       "'M   W   Ø   Æ   Ñ   æ   Õ   Ô   Q   Ð   Ö   Ó   Ò   B   N   m   O   D   g   Ã   Û   ß   w   Â   Å   G   R   Ê   Ü   Ú   Ù   ð   H   Ä   Á   À   p   Ë   É   È   q   d   b   ã   ê   å   K   â   U   A   Ç   ë   é   è   E   P   Þ   ä   á   à   Z   h   X   S   V   k   e   y   a   Ý   C   o   u   F   n   Î   ç   Y   Ï   Í   Ì   T   x   s   v   f   J   z   L   I   j   c   t   î   l   r   ï   í   ì   i'"
      ]
     },
     "execution_count": 8,
     "metadata": {},
     "output_type": "execute_result"
    }
   ],
   "source": [
    "sub_df['pixel_count_complexity'] = sub_df.picture.apply(pixel_count_complexity)\n",
    "\n",
    "'   '.join(sub_df.sort_values('pixel_count_complexity', ascending=True).rep.iloc[:100].values)"
   ]
  },
  {
   "cell_type": "code",
   "execution_count": 9,
   "id": "bc6938c8-017e-48f4-a755-2ccbeb620ccd",
   "metadata": {},
   "outputs": [
    {
     "name": "stdout",
     "output_type": "stream",
     "text": [
      "0        (0.9546919215686275, 0.9684819137254902)\n",
      "1        (0.9405768470588235, 0.9634589176470588)\n",
      "2        (0.9621153254901961, 0.9690226196078431)\n",
      "3        (0.9449019921568628, 0.9672999215686274)\n",
      "4        (0.9565430588235294, 0.9720421019607843)\n",
      "                           ...                   \n",
      "18927             (0.9665952, 0.9841628862745098)\n",
      "18928             (0.9665952, 0.9841628862745098)\n",
      "18929             (0.9665952, 0.9841628862745098)\n",
      "18930             (0.9665952, 0.9841628862745098)\n",
      "18931             (0.9665952, 0.9841628862745098)\n",
      "Name: picture, Length: 18932, dtype: object\n",
      "CPU times: user 1min 56s, sys: 17.6 s, total: 2min 13s\n",
      "Wall time: 2min 26s\n"
     ]
    }
   ],
   "source": [
    "%%time\n",
    "#this code checks the symmetry ratios for the whole dataframe, and prints the picture of the 2280th character in the df\n",
    "\n",
    "dfu['picture'] = dfu.code.apply(lambda x: make_picture(x, 'data/ttfs/NotoSans-Regular.ttf'))\n",
    "\n",
    "\n",
    "symmetry = dfu.picture.apply(check_symmetry)\n",
    "print(symmetry)\n",
    "\n"
   ]
  },
  {
   "cell_type": "code",
   "execution_count": 10,
   "id": "dc2df00f-66d1-48ad-b0f9-86c5d5ee939f",
   "metadata": {},
   "outputs": [
    {
     "data": {
      "text/plain": [
       "'Ԫ   Ꙭ   ℻   Ǆ   Ꚗ   Ꝏ   Ꚙ   Ǳ   Ꚅ   Ѭ   ‱   ǅ   Ꟃ   Ѹ   Ꜵ   ॵ   Ꜳ   ʥ   औ   ꟿ   ʤ   ԫ   Ǌ   ऑ   ǋ   ऒ   ǆ   ‰   Ԭ   ᵺ   ǲ   Ѽ   Щ   ꭦ   ओ   Ŵ   Ꝡ   Ӎ   Ꙝ   Ꙧ   Ѿ   Ƣ   Ԣ   Ɱ   Ѩ   ﬄ   Ҧ   ꚗ   ॠ   Ḿ   Ẅ   Ẃ   Ю   Ẁ   Ꙕ   Ꚛ   ॴ   ₯   ꭁ   Ṃ   Ṁ   Ẉ   Ẇ   ख़   Ԡ   Ǿ   ʣ   Ꜽ   Ш   ℔   №   ǳ   ⁂   ﬃ   Ǣ   ᾮ   ᾯ   ѹ   Ꙣ   Ԙ   Ꜩ   Ӂ   Ꝙ   Ҋ   Œ   Ɯ   ꙭ   Ǽ   ₪   Μ   М   M   ꟽ   Ԝ   W   आ   Ⱳ   ȹ   ख   ʩ'"
      ]
     },
     "execution_count": 10,
     "metadata": {},
     "output_type": "execute_result"
    }
   ],
   "source": [
    "\n",
    "dfu['pixel_count_complexity'] = dfu.picture.apply(pixel_count_complexity)\n",
    "\n",
    "'   '.join(dfu.sort_values('pixel_count_complexity',ascending=True).rep.iloc[:100].values)\n"
   ]
  },
  {
   "cell_type": "code",
   "execution_count": 11,
   "id": "cc8d0e53",
   "metadata": {},
   "outputs": [
    {
     "data": {
      "text/plain": [
       "'\\nvalidates the accuracy of the stored distance transform values for each character in the dataframe.\\n'"
      ]
     },
     "execution_count": 11,
     "metadata": {},
     "output_type": "execute_result"
    }
   ],
   "source": [
    "\"\"\"\n",
    "validates the accuracy of the stored distance transform values for each character in the dataframe.\n",
    "\"\"\"\n",
    "\n",
    "\n",
    "#generate subset dataframes in batches of 100\n",
    "#num_rows = len(dfu)\n",
    "#batch_size = 100\n",
    "\n",
    "#for i in range(0, num_rows, batch_size):\n",
    "    #sub_dfu = dfu[i:i+batch_size].copy()\n",
    "\n",
    "    # add distance_transform col to sub_dfu dataframe\n",
    "    #sub_dfu['distance_transform'] = sub_dfu.picture.apply(distance_transform_edt)\n",
    "\n",
    "    #for index, row in sub_dfu.iterrows():\n",
    "        #character = row['picture']\n",
    "        #distance_transform = row['distance_transform']\n",
    "\n",
    "        #calculate the distance transform separately\n",
    "        #calculated_distance_transform = distance_transform_edt(character)\n",
    "\n",
    "        #compare the calculated distance transform with the stored values\n",
    "        #if np.array_equal(distance_transform, calculated_distance_transform):\n",
    "            #print(f\"Distance transform values match for character {row['code']}\")\n",
    "        #else:\n",
    "            #print(f\"Distance transform values don't match for character {row['code']}\")\n",
    "    \n",
    "    #print(sub_dfu[['code', 'picture', 'distance_transform']].head(100))\n",
    "\n",
    "    # Save the output to CSV\n",
    "    #sub_dfu[['code', 'picture', 'distance_transform']].to_csv(f'distance_transform_output_{i}.csv', index=False)\n"
   ]
  },
  {
   "cell_type": "code",
   "execution_count": 12,
   "id": "6c64a423",
   "metadata": {},
   "outputs": [
    {
     "name": "stderr",
     "output_type": "stream",
     "text": [
      "/var/folders/7l/msjd1z0s0614rzlvdntzntyc0000gn/T/ipykernel_29975/4091600297.py:15: RuntimeWarning: invalid value encountered in true_divide\n",
      "  normalized_dt = (distance_transform - np.min(distance_transform)) / (np.max(distance_transform) - np.min(distance_transform))\n"
     ]
    },
    {
     "name": "stdout",
     "output_type": "stream",
     "text": [
      "        code                                            picture  \\\n",
      "0       0041  [[1.0, 1.0, 1.0, 1.0, 1.0, 1.0, 1.0, 1.0, 1.0,...   \n",
      "1       0042  [[1.0, 1.0, 1.0, 1.0, 1.0, 1.0, 1.0, 1.0, 1.0,...   \n",
      "2       0043  [[1.0, 1.0, 1.0, 1.0, 1.0, 1.0, 1.0, 1.0, 1.0,...   \n",
      "3       0044  [[1.0, 1.0, 1.0, 1.0, 1.0, 1.0, 1.0, 1.0, 1.0,...   \n",
      "4       0045  [[1.0, 1.0, 1.0, 1.0, 1.0, 1.0, 1.0, 1.0, 1.0,...   \n",
      "...      ...                                                ...   \n",
      "18927  E0076  [[1.0, 1.0, 1.0, 1.0, 1.0, 1.0, 1.0, 1.0, 1.0,...   \n",
      "18928  E0077  [[1.0, 1.0, 1.0, 1.0, 1.0, 1.0, 1.0, 1.0, 1.0,...   \n",
      "18929  E0078  [[1.0, 1.0, 1.0, 1.0, 1.0, 1.0, 1.0, 1.0, 1.0,...   \n",
      "18930  E0079  [[1.0, 1.0, 1.0, 1.0, 1.0, 1.0, 1.0, 1.0, 1.0,...   \n",
      "18931  E007A  [[1.0, 1.0, 1.0, 1.0, 1.0, 1.0, 1.0, 1.0, 1.0,...   \n",
      "\n",
      "       complexity_score  \n",
      "0              0.009922  \n",
      "1              0.013672  \n",
      "2              0.009676  \n",
      "3              0.013586  \n",
      "4              0.009210  \n",
      "...                 ...  \n",
      "18927          0.008431  \n",
      "18928          0.008431  \n",
      "18929          0.008431  \n",
      "18930          0.008431  \n",
      "18931          0.008431  \n",
      "\n",
      "[18932 rows x 3 columns]\n"
     ]
    }
   ],
   "source": [
    "\"\"\"\n",
    "quantifies the complexity of each character based on its distance transform values. \n",
    "\"\"\"\n",
    "\n",
    "\n",
    "#calculate complexity scores for the entire dfu dataframe\n",
    "complexity_scores = []\n",
    "\n",
    "for index, row in dfu.iterrows():\n",
    "    character = row['picture']\n",
    "    inverted_character = 1 - character #invert the character to get the background pixels\n",
    "    distance_transform = distance_transform_edt(inverted_character)\n",
    "\n",
    "    #normalize distance transform values between 0 and 1\n",
    "    normalized_dt = (distance_transform - np.min(distance_transform)) / (np.max(distance_transform) - np.min(distance_transform))\n",
    "\n",
    "    #calculate complexity score (ie, avg of normalized values)\n",
    "    complexity_score = np.mean(normalized_dt)\n",
    "    complexity_scores.append(complexity_score)\n",
    "\n",
    "# assign complexity scores to the df\n",
    "dfu['complexity_score'] = complexity_scores\n",
    "\n",
    "print(dfu[['code', 'picture', 'complexity_score']])\n"
   ]
  },
  {
   "cell_type": "code",
   "execution_count": 13,
   "id": "e1aa7573",
   "metadata": {},
   "outputs": [
    {
     "data": {
      "image/png": "[encoded data removed]",
      "text/plain": [
       "<Figure size 640x480 with 2 Axes>"
      ]
     },
     "metadata": {},
     "output_type": "display_data"
    }
   ],
   "source": [
    "\n",
    "\"\"\"\n",
    "visualizes the distance transform array and overlays the coordinates of local maxima on top of the image\n",
    "\"\"\"\n",
    "\n",
    "image_index = 0\n",
    "selected_image = dfu.loc[image_index, 'picture']\n",
    "\n",
    "\n",
    "#calculate the distance transform of the selected image\n",
    "distance_transform = distance_transform_edt(selected_image)\n",
    "\n",
    "#calculate local maxima\n",
    "footprint = np.ones((3, 3), dtype=bool)\n",
    "local_maxima = (distance_transform == maximum_filter(distance_transform, footprint=footprint, mode='constant'))\n",
    "\n",
    "#get coordinates of local maxima\n",
    "local_maxima_coords = np.argwhere(local_maxima)\n",
    "\n",
    "#display the distance transform array\n",
    "plt.imshow(distance_transform, cmap='gray')\n",
    "plt.colorbar()\n",
    "\n",
    "#plot the local maxima coordinates on top of the image\n",
    "x_coords = [coord[1] for coord in local_maxima_coords]\n",
    "y_coords = [coord[0] for coord in local_maxima_coords]\n",
    "plt.scatter(x_coords, y_coords, color='red', marker='x')\n",
    "\n",
    "plt.xlabel('X-axis')\n",
    "plt.ylabel('Y-axis')\n",
    "plt.title('Distance Transform with Local Maxima')\n",
    "\n",
    "plt.show()\n"
   ]
  },
  {
   "cell_type": "code",
   "execution_count": 14,
   "id": "3ecc9b0b-ff96-4793-8611-867ba0bea807",
   "metadata": {},
   "outputs": [
    {
     "data": {
      "image/png": "[encoded data removed]",
      "text/plain": [
       "<Figure size 640x480 with 1 Axes>"
      ]
     },
     "metadata": {},
     "output_type": "display_data"
    }
   ],
   "source": [
    "delta = 0.0005\n",
    "bins = np.arange(np.min(dfu['complexity_score']), np.max(dfu['complexity_score']) + delta, delta)\n",
    "\n",
    "plt.hist(dfu['complexity_score'], bins=bins)\n",
    "plt.xlabel('Complexity Score')\n",
    "plt.ylabel('Frequency')\n",
    "plt.title('Distribution of Complexity Scores')\n",
    "plt.yscale('log')\n",
    "\n",
    "plt.show()\n"
   ]
  }
 ],
 "metadata": {
  "kernelspec": {
   "display_name": "Python 3 (ipykernel)",
   "language": "python",
   "name": "python3"
  },
  "language_info": {
   "codemirror_mode": {
    "name": "ipython",
    "version": 3
   },
   "file_extension": ".py",
   "mimetype": "text/x-python",
   "name": "python",
   "nbconvert_exporter": "python",
   "pygments_lexer": "ipython3",
   "version": "3.9.13"
  }
 },
 "nbformat": 4,
 "nbformat_minor": 5
}
